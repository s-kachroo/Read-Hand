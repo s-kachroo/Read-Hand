{
 "cells": [
  {
   "cell_type": "markdown",
   "metadata": {},
   "source": [
    "# Sign Language and Static-Gesture Recognition"
   ]
  },
  {
   "cell_type": "markdown",
   "metadata": {},
   "source": [
    "Gesture recognition is an open problem in the area of machine vision, a field of computer science that enables systems to emulate human vision. Gesture recognition has many applications in improving human-computer interaction, and one of them is in the field of Sign Language Translation, wherein a video sequence of symbolic hand gestures is translated into natural language."
   ]
  },
  {
   "cell_type": "markdown",
   "metadata": {},
   "source": [
    "## Dataset"
   ]
  },
  {
   "cell_type": "markdown",
   "metadata": {},
   "source": [
    "The dataset format is patterned to match closely with the classic MNIST. Each training and test case represents a label (0-25) as a one-to-one map for each alphabetic letter A-Z (and no cases for 9=J or 25=Z because of gesture motions). The training data (27,455 cases) and test data (7172 cases) are approximately half the size of the standard MNIST but otherwise similar with a header row of label, pixel1,pixel2....pixel784 which represent a single 28x28 pixel image with grayscale values between 0-255. "
   ]
  },
  {
   "cell_type": "code",
   "execution_count": null,
   "metadata": {
    "colab": {},
    "colab_type": "code",
    "id": "P_QTR8kP4ET3"
   },
   "outputs": [],
   "source": [
    "import pandas as pd\n",
    "import numpy as np"
   ]
  },
  {
   "cell_type": "code",
   "execution_count": null,
   "metadata": {
    "colab": {},
    "colab_type": "code",
    "id": "A-f1JKBS4Y-m"
   },
   "outputs": [],
   "source": [
    "train = pd.read_csv('dataset/sign_mnist_train.csv', header=0)\n",
    "test = pd.read_csv('dataset/sign_mnist_test.csv',header=0)"
   ]
  },
  {
   "cell_type": "code",
   "execution_count": null,
   "metadata": {
    "colab": {},
    "colab_type": "code",
    "id": "jfeHnF-tC8JM"
   },
   "outputs": [],
   "source": [
    "y_train = train['label'].values\n",
    "y_test = test['label'].values"
   ]
  },
  {
   "cell_type": "code",
   "execution_count": null,
   "metadata": {
    "colab": {},
    "colab_type": "code",
    "id": "U04d3ljTDGkz"
   },
   "outputs": [],
   "source": [
    "X_train = train.drop(['label'],axis=1)\n",
    "X_test = test.drop(['label'], axis=1)"
   ]
  },
  {
   "cell_type": "code",
   "execution_count": null,
   "metadata": {
    "colab": {},
    "colab_type": "code",
    "id": "cE7x8t0hDZB7"
   },
   "outputs": [],
   "source": [
    "X_train = np.array(X_train.iloc[:,:])\n",
    "X_train = np.array([np.reshape(i, (28,28)) for i in X_train])\n",
    "\n",
    "X_test = np.array(X_test.iloc[:,:])\n",
    "X_test = np.array([np.reshape(i, (28,28)) for i in X_test])"
   ]
  },
  {
   "cell_type": "code",
   "execution_count": null,
   "metadata": {
    "colab": {},
    "colab_type": "code",
    "id": "04kDEMq1_mfE"
   },
   "outputs": [],
   "source": [
    "num_classes = 26\n",
    "y_train = np.array(y_train).reshape(-1)\n",
    "y_test = np.array(y_test).reshape(-1)\n",
    "\n",
    "y_train = np.eye(num_classes)[y_train]\n",
    "y_test = np.eye(num_classes)[y_test]"
   ]
  },
  {
   "cell_type": "code",
   "execution_count": 73,
   "metadata": {
    "colab": {
     "base_uri": "https://localhost:8080/",
     "height": 119
    },
    "colab_type": "code",
    "id": "k6dthwlv6YpQ",
    "outputId": "1f74b260-3b6c-407b-ec17-f86837e46215"
   },
   "outputs": [
    {
     "name": "stdout",
     "output_type": "stream",
     "text": [
      "Training examples: 27455\n",
      "Test examples: 7172\n",
      "X_train shape\" (27455, 28, 28)\n",
      "y_train shape\" (27455, 26)\n",
      "X_test shape\" (7172, 28, 28)\n",
      "y_test shape\" (7172, 26)\n"
     ]
    }
   ],
   "source": [
    "print('Training examples:',X_train.shape[0])\n",
    "print('Test examples:',X_test.shape[0])\n",
    "\n",
    "print('X_train shape\"',X_train.shape)\n",
    "print('y_train shape\"',y_train.shape)\n",
    "print('X_test shape\"',X_test.shape)\n",
    "print('y_test shape\"',y_test.shape)\n"
   ]
  },
  {
   "cell_type": "code",
   "execution_count": null,
   "metadata": {
    "colab": {},
    "colab_type": "code",
    "id": "pfznN3wETDXH"
   },
   "outputs": [],
   "source": [
    "X_train = X_train.reshape((27455, 28, 28, 1))\n",
    "X_test = X_test.reshape((7172, 28, 28, 1))"
   ]
  },
  {
   "cell_type": "code",
   "execution_count": null,
   "metadata": {
    "colab": {},
    "colab_type": "code",
    "id": "cCXcWI-FALUZ"
   },
   "outputs": [],
   "source": [
    "from keras.models import Sequential\n",
    "from keras.layers import Convolution2D\n",
    "from keras.layers import MaxPooling2D\n",
    "from keras.layers import Flatten\n",
    "from keras.layers import Dense\n",
    "from IPython.display import SVG\n",
    "from keras.utils.vis_utils import model_to_dot\n",
    "import pydot"
   ]
  },
  {
   "cell_type": "code",
   "execution_count": null,
   "metadata": {
    "colab": {},
    "colab_type": "code",
    "id": "CB6fhnQOA34S"
   },
   "outputs": [],
   "source": [
    "def model():\n",
    "  classifier = Sequential()\n",
    "  classifier.add(Convolution2D(filters=8, kernel_size=(3,3),strides=(1,1),padding='same',input_shape=(28,28,1),activation='relu', data_format='channels_last'))\n",
    "  classifier.add(MaxPooling2D(pool_size=(2,2)))\n",
    "  classifier.add(Convolution2D(filters=16, kernel_size=(3,3),strides=(1,1),padding='same',activation='relu'))\n",
    "  classifier.add(MaxPooling2D(pool_size=(4,4)))\n",
    "  classifier.add(Flatten())\n",
    "  classifier.add(Dense(128, activation='relu'))\n",
    "  classifier.add(Dense(26, activation='sigmoid'))\n",
    "  classifier.compile(optimizer='adam', loss='categorical_crossentropy', metrics=['accuracy'])\n",
    "  return classifier"
   ]
  },
  {
   "cell_type": "code",
   "execution_count": null,
   "metadata": {
    "colab": {},
    "colab_type": "code",
    "id": "u9QVRphfHkfw"
   },
   "outputs": [],
   "source": [
    "classifier = model()"
   ]
  },
  {
   "cell_type": "code",
   "execution_count": 168,
   "metadata": {
    "colab": {
     "base_uri": "https://localhost:8080/",
     "height": 374
    },
    "colab_type": "code",
    "id": "uQ92PlkxQMaq",
    "outputId": "0aa0bc07-bfcb-4780-ac4b-cab8adb16f60"
   },
   "outputs": [
    {
     "name": "stdout",
     "output_type": "stream",
     "text": [
      "_________________________________________________________________\n",
      "Layer (type)                 Output Shape              Param #   \n",
      "=================================================================\n",
      "conv2d_25 (Conv2D)           (None, 28, 28, 8)         80        \n",
      "_________________________________________________________________\n",
      "max_pooling2d_18 (MaxPooling (None, 14, 14, 8)         0         \n",
      "_________________________________________________________________\n",
      "conv2d_26 (Conv2D)           (None, 14, 14, 16)        1168      \n",
      "_________________________________________________________________\n",
      "max_pooling2d_19 (MaxPooling (None, 3, 3, 16)          0         \n",
      "_________________________________________________________________\n",
      "flatten_5 (Flatten)          (None, 144)               0         \n",
      "_________________________________________________________________\n",
      "dense_6 (Dense)              (None, 128)               18560     \n",
      "_________________________________________________________________\n",
      "dense_7 (Dense)              (None, 26)                3354      \n",
      "=================================================================\n",
      "Total params: 23,162\n",
      "Trainable params: 23,162\n",
      "Non-trainable params: 0\n",
      "_________________________________________________________________\n"
     ]
    }
   ],
   "source": [
    "classifier.summary()"
   ]
  },
  {
   "cell_type": "code",
   "execution_count": 170,
   "metadata": {
    "colab": {
     "base_uri": "https://localhost:8080/",
     "height": 3434
    },
    "colab_type": "code",
    "id": "tdsFL8b8Sz4f",
    "outputId": "25d7e71d-8edc-4b83-c8fb-4bbe8cb133c2"
   },
   "outputs": [
    {
     "name": "stdout",
     "output_type": "stream",
     "text": [
      "Epoch 1/100\n",
      "27455/27455 [==============================] - 2s 90us/step - loss: 4.0036 - acc: 0.0647\n",
      "Epoch 2/100\n",
      "27455/27455 [==============================] - 2s 91us/step - loss: 3.7849 - acc: 0.0992\n",
      "Epoch 3/100\n",
      "27455/27455 [==============================] - 2s 90us/step - loss: 1.7940 - acc: 0.1230\n",
      "Epoch 4/100\n",
      "27455/27455 [==============================] - 2s 90us/step - loss: 1.3618 - acc: 0.1118\n",
      "Epoch 5/100\n",
      "27455/27455 [==============================] - 2s 90us/step - loss: 1.3075 - acc: 0.1164\n",
      "Epoch 6/100\n",
      "27455/27455 [==============================] - 2s 90us/step - loss: 1.2933 - acc: 0.1191\n",
      "Epoch 7/100\n",
      "27455/27455 [==============================] - 2s 90us/step - loss: 1.2908 - acc: 0.1209\n",
      "Epoch 8/100\n",
      "27455/27455 [==============================] - 2s 90us/step - loss: 1.2970 - acc: 0.1365\n",
      "Epoch 9/100\n",
      "27455/27455 [==============================] - 2s 90us/step - loss: 1.2839 - acc: 0.1362\n",
      "Epoch 10/100\n",
      "27455/27455 [==============================] - 2s 90us/step - loss: 1.2859 - acc: 0.1448\n",
      "Epoch 11/100\n",
      "27455/27455 [==============================] - 2s 90us/step - loss: 1.2993 - acc: 0.1640\n",
      "Epoch 12/100\n",
      "27455/27455 [==============================] - 2s 90us/step - loss: 0.8978 - acc: 0.7427\n",
      "Epoch 13/100\n",
      "27455/27455 [==============================] - 2s 90us/step - loss: 0.6527 - acc: 0.9556\n",
      "Epoch 14/100\n",
      "27455/27455 [==============================] - 2s 90us/step - loss: 0.6479 - acc: 0.9564\n",
      "Epoch 15/100\n",
      "27455/27455 [==============================] - 2s 89us/step - loss: 0.6385 - acc: 0.9599\n",
      "Epoch 16/100\n",
      "27455/27455 [==============================] - 2s 90us/step - loss: 0.6353 - acc: 0.9606\n",
      "Epoch 17/100\n",
      "27455/27455 [==============================] - 2s 89us/step - loss: 0.6352 - acc: 0.9606\n",
      "Epoch 18/100\n",
      "27455/27455 [==============================] - 2s 90us/step - loss: 0.6352 - acc: 0.9606\n",
      "Epoch 19/100\n",
      "27455/27455 [==============================] - 2s 90us/step - loss: 0.6352 - acc: 0.9606\n",
      "Epoch 20/100\n",
      "27455/27455 [==============================] - 2s 91us/step - loss: 0.6352 - acc: 0.9606\n",
      "Epoch 21/100\n",
      "27455/27455 [==============================] - 2s 89us/step - loss: 0.6352 - acc: 0.9606\n",
      "Epoch 22/100\n",
      "27455/27455 [==============================] - 2s 90us/step - loss: 0.6352 - acc: 0.9606\n",
      "Epoch 23/100\n",
      "27455/27455 [==============================] - 2s 90us/step - loss: 0.6352 - acc: 0.9606\n",
      "Epoch 24/100\n",
      "27455/27455 [==============================] - 2s 90us/step - loss: 0.6352 - acc: 0.9606\n",
      "Epoch 25/100\n",
      "27455/27455 [==============================] - 2s 89us/step - loss: 0.6352 - acc: 0.9606\n",
      "Epoch 26/100\n",
      "27455/27455 [==============================] - 2s 90us/step - loss: 0.6352 - acc: 0.9606\n",
      "Epoch 27/100\n",
      "27455/27455 [==============================] - 2s 90us/step - loss: 0.6352 - acc: 0.9606\n",
      "Epoch 28/100\n",
      "27455/27455 [==============================] - 2s 90us/step - loss: 0.6352 - acc: 0.9606\n",
      "Epoch 29/100\n",
      "27455/27455 [==============================] - 2s 90us/step - loss: 0.6352 - acc: 0.9606\n",
      "Epoch 30/100\n",
      "27455/27455 [==============================] - 2s 90us/step - loss: 0.6352 - acc: 0.9606\n",
      "Epoch 31/100\n",
      "27455/27455 [==============================] - 2s 90us/step - loss: 0.6352 - acc: 0.9606\n",
      "Epoch 32/100\n",
      "27455/27455 [==============================] - 2s 90us/step - loss: 0.6352 - acc: 0.9606\n",
      "Epoch 33/100\n",
      "27455/27455 [==============================] - 2s 89us/step - loss: 0.6352 - acc: 0.9606\n",
      "Epoch 34/100\n",
      "27455/27455 [==============================] - 2s 89us/step - loss: 0.6352 - acc: 0.9606\n",
      "Epoch 35/100\n",
      "27455/27455 [==============================] - 2s 90us/step - loss: 0.6352 - acc: 0.9606\n",
      "Epoch 36/100\n",
      "27455/27455 [==============================] - 2s 89us/step - loss: 0.6352 - acc: 0.9606\n",
      "Epoch 37/100\n",
      "27455/27455 [==============================] - 2s 89us/step - loss: 0.6352 - acc: 0.9606\n",
      "Epoch 38/100\n",
      "27455/27455 [==============================] - 2s 89us/step - loss: 0.6352 - acc: 0.9606\n",
      "Epoch 39/100\n",
      "27455/27455 [==============================] - 2s 89us/step - loss: 0.6352 - acc: 0.9606\n",
      "Epoch 40/100\n",
      "27455/27455 [==============================] - 2s 90us/step - loss: 0.6352 - acc: 0.9606\n",
      "Epoch 41/100\n",
      "27455/27455 [==============================] - 2s 90us/step - loss: 0.6352 - acc: 0.9606\n",
      "Epoch 42/100\n",
      "27455/27455 [==============================] - 2s 90us/step - loss: 0.6352 - acc: 0.9606\n",
      "Epoch 43/100\n",
      "27455/27455 [==============================] - 2s 90us/step - loss: 0.6352 - acc: 0.9606\n",
      "Epoch 44/100\n",
      "27455/27455 [==============================] - 2s 91us/step - loss: 0.6352 - acc: 0.9606\n",
      "Epoch 45/100\n",
      "27455/27455 [==============================] - 2s 91us/step - loss: 0.6352 - acc: 0.9606\n",
      "Epoch 46/100\n",
      "27455/27455 [==============================] - 2s 91us/step - loss: 0.6352 - acc: 0.9606\n",
      "Epoch 47/100\n",
      "27455/27455 [==============================] - 2s 90us/step - loss: 0.6352 - acc: 0.9606\n",
      "Epoch 48/100\n",
      "27455/27455 [==============================] - 2s 90us/step - loss: 0.6352 - acc: 0.9606\n",
      "Epoch 49/100\n",
      "27455/27455 [==============================] - 2s 90us/step - loss: 0.6352 - acc: 0.9606\n",
      "Epoch 50/100\n",
      "27455/27455 [==============================] - 2s 91us/step - loss: 0.6352 - acc: 0.9606\n",
      "Epoch 51/100\n",
      "27455/27455 [==============================] - 2s 91us/step - loss: 0.6352 - acc: 0.9606\n",
      "Epoch 52/100\n",
      "27455/27455 [==============================] - 2s 91us/step - loss: 0.6352 - acc: 0.9606\n",
      "Epoch 53/100\n",
      "27455/27455 [==============================] - 3s 91us/step - loss: 0.6352 - acc: 0.9606\n",
      "Epoch 54/100\n",
      "27455/27455 [==============================] - 2s 90us/step - loss: 0.6352 - acc: 0.9606\n",
      "Epoch 55/100\n",
      "27455/27455 [==============================] - 3s 91us/step - loss: 0.6352 - acc: 0.9606\n",
      "Epoch 56/100\n",
      "27455/27455 [==============================] - 2s 90us/step - loss: 0.6352 - acc: 0.9606\n",
      "Epoch 57/100\n",
      "27455/27455 [==============================] - 2s 91us/step - loss: 0.6352 - acc: 0.9606\n",
      "Epoch 58/100\n",
      "27455/27455 [==============================] - 2s 90us/step - loss: 0.6352 - acc: 0.9606\n",
      "Epoch 59/100\n",
      "27455/27455 [==============================] - 3s 92us/step - loss: 0.6352 - acc: 0.9606\n",
      "Epoch 60/100\n",
      "27455/27455 [==============================] - 3s 92us/step - loss: 0.6352 - acc: 0.9606\n",
      "Epoch 61/100\n",
      "27455/27455 [==============================] - 3s 92us/step - loss: 0.6352 - acc: 0.9606\n",
      "Epoch 62/100\n",
      "27455/27455 [==============================] - 3s 92us/step - loss: 0.6352 - acc: 0.9606\n",
      "Epoch 63/100\n",
      "27455/27455 [==============================] - 3s 92us/step - loss: 0.6352 - acc: 0.9606\n",
      "Epoch 64/100\n",
      "27455/27455 [==============================] - 3s 93us/step - loss: 0.6352 - acc: 0.9606\n",
      "Epoch 65/100\n",
      "27455/27455 [==============================] - 3s 92us/step - loss: 0.6352 - acc: 0.9606\n",
      "Epoch 66/100\n",
      "27455/27455 [==============================] - 3s 92us/step - loss: 0.6352 - acc: 0.9606\n",
      "Epoch 67/100\n",
      "27455/27455 [==============================] - 3s 93us/step - loss: 0.6352 - acc: 0.9606\n",
      "Epoch 68/100\n",
      "27455/27455 [==============================] - 3s 92us/step - loss: 0.6352 - acc: 0.9606\n",
      "Epoch 69/100\n",
      "27455/27455 [==============================] - 3s 92us/step - loss: 0.6352 - acc: 0.9606\n",
      "Epoch 70/100\n",
      "27455/27455 [==============================] - 3s 92us/step - loss: 0.6352 - acc: 0.9606\n",
      "Epoch 71/100\n",
      "27455/27455 [==============================] - 3s 92us/step - loss: 0.6352 - acc: 0.9606\n",
      "Epoch 72/100\n",
      "27455/27455 [==============================] - 3s 92us/step - loss: 0.6352 - acc: 0.9606\n",
      "Epoch 73/100\n",
      "27455/27455 [==============================] - 3s 92us/step - loss: 0.6352 - acc: 0.9606\n",
      "Epoch 74/100\n",
      "27455/27455 [==============================] - 3s 93us/step - loss: 0.6352 - acc: 0.9606\n",
      "Epoch 75/100\n",
      "27455/27455 [==============================] - 3s 92us/step - loss: 0.6352 - acc: 0.9606\n",
      "Epoch 76/100\n",
      "27455/27455 [==============================] - 3s 92us/step - loss: 0.6352 - acc: 0.9606\n",
      "Epoch 77/100\n",
      "27455/27455 [==============================] - 2s 91us/step - loss: 0.6352 - acc: 0.9606\n",
      "Epoch 78/100\n",
      "27455/27455 [==============================] - 2s 90us/step - loss: 0.6352 - acc: 0.9606\n",
      "Epoch 79/100\n",
      "27455/27455 [==============================] - 2s 90us/step - loss: 0.6352 - acc: 0.9606\n",
      "Epoch 80/100\n",
      "27455/27455 [==============================] - 2s 90us/step - loss: 0.6352 - acc: 0.9606\n",
      "Epoch 81/100\n",
      "27455/27455 [==============================] - 2s 90us/step - loss: 0.6352 - acc: 0.9606\n",
      "Epoch 82/100\n",
      "27455/27455 [==============================] - 2s 90us/step - loss: 0.6352 - acc: 0.9606\n",
      "Epoch 83/100\n",
      "27455/27455 [==============================] - 2s 90us/step - loss: 0.6352 - acc: 0.9606\n",
      "Epoch 84/100\n",
      "27455/27455 [==============================] - 2s 89us/step - loss: 0.6352 - acc: 0.9606\n",
      "Epoch 85/100\n",
      "27455/27455 [==============================] - 2s 90us/step - loss: 0.6352 - acc: 0.9606\n",
      "Epoch 86/100\n",
      "27455/27455 [==============================] - 2s 89us/step - loss: 0.6352 - acc: 0.9606\n",
      "Epoch 87/100\n",
      "27455/27455 [==============================] - 2s 91us/step - loss: 0.6352 - acc: 0.9606\n",
      "Epoch 88/100\n",
      "27455/27455 [==============================] - 2s 90us/step - loss: 0.6352 - acc: 0.9606\n",
      "Epoch 89/100\n",
      "27455/27455 [==============================] - 3s 91us/step - loss: 0.6352 - acc: 0.9606\n",
      "Epoch 90/100\n",
      "27455/27455 [==============================] - 3s 91us/step - loss: 0.6352 - acc: 0.9606\n",
      "Epoch 91/100\n",
      "27455/27455 [==============================] - 2s 91us/step - loss: 0.6352 - acc: 0.9606\n",
      "Epoch 92/100\n",
      "27455/27455 [==============================] - 2s 91us/step - loss: 0.6352 - acc: 0.9606\n",
      "Epoch 93/100\n",
      "27455/27455 [==============================] - 3s 91us/step - loss: 0.6352 - acc: 0.9606\n",
      "Epoch 94/100\n",
      "27455/27455 [==============================] - 2s 91us/step - loss: 0.6352 - acc: 0.9606\n",
      "Epoch 95/100\n",
      "27455/27455 [==============================] - 2s 91us/step - loss: 0.6352 - acc: 0.9606\n",
      "Epoch 96/100\n",
      "27455/27455 [==============================] - 3s 91us/step - loss: 0.6352 - acc: 0.9606\n",
      "Epoch 97/100\n",
      "27455/27455 [==============================] - 2s 91us/step - loss: 0.6352 - acc: 0.9606\n",
      "Epoch 98/100\n",
      "27455/27455 [==============================] - 3s 92us/step - loss: 0.6352 - acc: 0.9606\n",
      "Epoch 99/100\n",
      "27455/27455 [==============================] - 2s 90us/step - loss: 0.6352 - acc: 0.9606\n",
      "Epoch 100/100\n",
      "27455/27455 [==============================] - 2s 91us/step - loss: 0.6352 - acc: 0.9606\n"
     ]
    },
    {
     "data": {
      "text/plain": [
       "<keras.callbacks.History at 0x7f1c71317710>"
      ]
     },
     "execution_count": 170,
     "metadata": {
      "tags": []
     },
     "output_type": "execute_result"
    }
   ],
   "source": [
    "classifier.fit(X_train, y_train, batch_size = 100, epochs = 100)"
   ]
  },
  {
   "cell_type": "code",
   "execution_count": null,
   "metadata": {
    "colab": {},
    "colab_type": "code",
    "id": "5bM_EAIdVGlE"
   },
   "outputs": [],
   "source": [
    "y_pred = classifier.predict(X_test)"
   ]
  },
  {
   "cell_type": "code",
   "execution_count": null,
   "metadata": {
    "colab": {},
    "colab_type": "code",
    "id": "49TtuLnVWLUN"
   },
   "outputs": [],
   "source": [
    "y_pred = np.argmax(y_pred, axis=1)"
   ]
  },
  {
   "cell_type": "code",
   "execution_count": 183,
   "metadata": {
    "colab": {
     "base_uri": "https://localhost:8080/",
     "height": 34
    },
    "colab_type": "code",
    "id": "d3172kEkVUiQ",
    "outputId": "6fd60cec-3d43-48ce-cce9-202e8ec20e66"
   },
   "outputs": [
    {
     "data": {
      "text/plain": [
       "array([ 6,  5, 10, ...,  2,  4,  2])"
      ]
     },
     "execution_count": 183,
     "metadata": {
      "tags": []
     },
     "output_type": "execute_result"
    }
   ],
   "source": [
    "y_pred"
   ]
  },
  {
   "cell_type": "code",
   "execution_count": 188,
   "metadata": {
    "colab": {
     "base_uri": "https://localhost:8080/",
     "height": 34
    },
    "colab_type": "code",
    "id": "ZIy623ocWiBV",
    "outputId": "1b4b47ee-f33c-4274-a0a7-56a8d11204be"
   },
   "outputs": [
    {
     "data": {
      "text/plain": [
       "array([ 6,  5, 10, ...,  2,  4,  2])"
      ]
     },
     "execution_count": 188,
     "metadata": {
      "tags": []
     },
     "output_type": "execute_result"
    }
   ],
   "source": [
    "y_test = np.array(test['label'].values)\n",
    "y_test"
   ]
  },
  {
   "cell_type": "code",
   "execution_count": 189,
   "metadata": {
    "colab": {
     "base_uri": "https://localhost:8080/",
     "height": 34
    },
    "colab_type": "code",
    "id": "xE2AgHEGXatT",
    "outputId": "54a2818c-73c6-4653-fcd3-21e5bcba6a04"
   },
   "outputs": [
    {
     "data": {
      "text/plain": [
       "0.8777189068600112"
      ]
     },
     "execution_count": 189,
     "metadata": {
      "tags": []
     },
     "output_type": "execute_result"
    }
   ],
   "source": [
    "from sklearn.metrics import accuracy_score\n",
    "accuracy_score(y_test, y_pred)"
   ]
  }
 ],
 "metadata": {
  "accelerator": "GPU",
  "colab": {
   "name": "Sign Language and Static-Gesture Recognition.ipynb",
   "provenance": [],
   "version": "0.3.2"
  },
  "kernelspec": {
   "display_name": "Python 3",
   "language": "python",
   "name": "python3"
  },
  "language_info": {
   "codemirror_mode": {
    "name": "ipython",
    "version": 3
   },
   "file_extension": ".py",
   "mimetype": "text/x-python",
   "name": "python",
   "nbconvert_exporter": "python",
   "pygments_lexer": "ipython3",
   "version": "3.7.3"
  }
 },
 "nbformat": 4,
 "nbformat_minor": 2
}
